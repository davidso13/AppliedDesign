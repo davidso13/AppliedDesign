{
 "cells": [
  {
   "cell_type": "code",
   "execution_count": null,
   "metadata": {},
   "outputs": [],
   "source": [
    "def calc_ratio(A_strand, b, dp):\n",
    "    result = A_strand / b / dp\n",
    "    return result\n",
    "\n",
    "def calc_fps(fpu, ratio, B1, Factor_p, fc):\n",
    "    result_1 = Factor_p / B1 * ratio * fpu / fc\n",
    "    result = fpu * (1 - result_1)\n",
    "    return result\n",
    "\n",
    "    "
   ]
  }
 ],
 "metadata": {
  "kernelspec": {
   "display_name": "Python 3",
   "language": "python",
   "name": "python3"
  },
  "language_info": {
   "codemirror_mode": {
    "name": "ipython",
    "version": 3
   },
   "file_extension": ".py",
   "mimetype": "text/x-python",
   "name": "python",
   "nbconvert_exporter": "python",
   "pygments_lexer": "ipython3",
   "version": "3.7.1"
  }
 },
 "nbformat": 4,
 "nbformat_minor": 2
}
